{
 "cells": [
  {
   "cell_type": "code",
   "execution_count": 1,
   "id": "a6ac6106",
   "metadata": {},
   "outputs": [
    {
     "name": "stderr",
     "output_type": "stream",
     "text": [
      "/Users/miah/miniconda3/envs/pill-checker/lib/python3.9/site-packages/tqdm/auto.py:22: TqdmWarning: IProgress not found. Please update jupyter and ipywidgets. See https://ipywidgets.readthedocs.io/en/stable/user_install.html\n",
      "  from .autonotebook import tqdm as notebook_tqdm\n"
     ]
    }
   ],
   "source": [
    "import requests\n",
    "import pandas as pd\n",
    "import numpy as np\n",
    "# import matplotlib.pyplot as plt\n",
    "import glob\n",
    "import cv2\n",
    "import os\n",
    "import math\n",
    "# import interactivecrop\n",
    "from bs4 import BeautifulSoup\n",
    "\n",
    "from PIL import Image, ImageDraw, ImageFont\n",
    "# from interactivecrop.interactivecrop import main as crop\n",
    "\n",
    "#import CLIP transformers\n",
    "from sentence_transformers import SentenceTransformer, util"
   ]
  },
  {
   "cell_type": "markdown",
   "id": "8ad87ab3",
   "metadata": {},
   "source": [
    "# Download the data"
   ]
  },
  {
   "cell_type": "code",
   "execution_count": 2,
   "id": "97cda9aa",
   "metadata": {},
   "outputs": [],
   "source": [
    "url = 'https://knowyourstuff.nz/pill-library/'"
   ]
  },
  {
   "cell_type": "code",
   "execution_count": 3,
   "id": "2245cedc",
   "metadata": {},
   "outputs": [],
   "source": [
    "pill_data = requests.get(url=url)"
   ]
  },
  {
   "cell_type": "code",
   "execution_count": 4,
   "id": "efa2d785",
   "metadata": {},
   "outputs": [],
   "source": [
    "soup = BeautifulSoup(pill_data.content, 'html.parser')"
   ]
  },
  {
   "cell_type": "code",
   "execution_count": 5,
   "id": "9d2f097c",
   "metadata": {
    "scrolled": false
   },
   "outputs": [],
   "source": [
    "tables = soup.find_all('table')"
   ]
  },
  {
   "cell_type": "code",
   "execution_count": 6,
   "id": "3826d8ec",
   "metadata": {
    "scrolled": true
   },
   "outputs": [
    {
     "data": {
      "text/html": [
       "<div>\n",
       "<style scoped>\n",
       "    .dataframe tbody tr th:only-of-type {\n",
       "        vertical-align: middle;\n",
       "    }\n",
       "\n",
       "    .dataframe tbody tr th {\n",
       "        vertical-align: top;\n",
       "    }\n",
       "\n",
       "    .dataframe thead th {\n",
       "        text-align: right;\n",
       "    }\n",
       "</style>\n",
       "<table border=\"1\" class=\"dataframe\">\n",
       "  <thead>\n",
       "    <tr style=\"text-align: right;\">\n",
       "      <th></th>\n",
       "      <th>Name</th>\n",
       "      <th>Description</th>\n",
       "      <th>Image</th>\n",
       "    </tr>\n",
       "  </thead>\n",
       "  <tbody>\n",
       "    <tr>\n",
       "      <th>0</th>\n",
       "      <td>Green Louis Vuitton/Plugs</td>\n",
       "      <td>Green Louis Vuitton/Plugs\\r\\nLight green squar...</td>\n",
       "      <td>https://i0.wp.com/knowyourstuff.nz/wp-content/...</td>\n",
       "    </tr>\n",
       "    <tr>\n",
       "      <th>1</th>\n",
       "      <td>White Heisenberg</td>\n",
       "      <td>White Heisenberg\\r\\nWhite/speckled guy with a ...</td>\n",
       "      <td>https://i0.wp.com/knowyourstuff.nz/wp-content/...</td>\n",
       "    </tr>\n",
       "    <tr>\n",
       "      <th>2</th>\n",
       "      <td>Pink glittery heart</td>\n",
       "      <td>Pink glittery heart\\r\\nHot pink heart with gli...</td>\n",
       "      <td>https://i0.wp.com/knowyourstuff.nz/wp-content/...</td>\n",
       "    </tr>\n",
       "    <tr>\n",
       "      <th>3</th>\n",
       "      <td>Gold gram</td>\n",
       "      <td>Gold gram\\r\\nGold squareish shape with ‘1 gram...</td>\n",
       "      <td>https://i0.wp.com/knowyourstuff.nz/wp-content/...</td>\n",
       "    </tr>\n",
       "    <tr>\n",
       "      <th>4</th>\n",
       "      <td>Blue hexagon</td>\n",
       "      <td>Blue hexagonLight blue hexagon with a raised l...</td>\n",
       "      <td>https://i0.wp.com/knowyourstuff.nz/wp-content/...</td>\n",
       "    </tr>\n",
       "    <tr>\n",
       "      <th>5</th>\n",
       "      <td>Red Audi</td>\n",
       "      <td>Red AudiDark maroon-y red rectangle with Audi ...</td>\n",
       "      <td>https://i0.wp.com/knowyourstuff.nz/wp-content/...</td>\n",
       "    </tr>\n",
       "    <tr>\n",
       "      <th>6</th>\n",
       "      <td>Plain orange</td>\n",
       "      <td>Plain orangePeachy orange with bevelled edges ...</td>\n",
       "      <td>https://i0.wp.com/knowyourstuff.nz/wp-content/...</td>\n",
       "    </tr>\n",
       "    <tr>\n",
       "      <th>7</th>\n",
       "      <td>Yellow pimple</td>\n",
       "      <td>Yellow pimpleYellow, round, with bevel on edge...</td>\n",
       "      <td>https://i0.wp.com/knowyourstuff.nz/wp-content/...</td>\n",
       "    </tr>\n",
       "    <tr>\n",
       "      <th>8</th>\n",
       "      <td>White Rolex</td>\n",
       "      <td>White RolexWhiteish colour with speckles. Role...</td>\n",
       "      <td>https://i0.wp.com/knowyourstuff.nz/wp-content/...</td>\n",
       "    </tr>\n",
       "    <tr>\n",
       "      <th>9</th>\n",
       "      <td>Yellow Mickey Mouse logo</td>\n",
       "      <td>Yellow Mickey Mouse logo\\nWeight: 450-550mg\\nE...</td>\n",
       "      <td>https://i0.wp.com/knowyourstuff.nz/wp-content/...</td>\n",
       "    </tr>\n",
       "    <tr>\n",
       "      <th>10</th>\n",
       "      <td>Grenades, green, pink and grey</td>\n",
       "      <td>Grenades, green, pink and grey\\nGreen, pink, o...</td>\n",
       "      <td>https://i0.wp.com/knowyourstuff.nz/wp-content/...</td>\n",
       "    </tr>\n",
       "    <tr>\n",
       "      <th>11</th>\n",
       "      <td>Grey AMG</td>\n",
       "      <td>Grey AMG\\nGrey, slightly speckled, rectangular...</td>\n",
       "      <td>https://i0.wp.com/knowyourstuff.nz/wp-content/...</td>\n",
       "    </tr>\n",
       "    <tr>\n",
       "      <th>12</th>\n",
       "      <td>Red Tekashi 69</td>\n",
       "      <td>Red Tekashi 69\\nReddish pink, cut in the shape...</td>\n",
       "      <td>https://i0.wp.com/knowyourstuff.nz/wp-content/...</td>\n",
       "    </tr>\n",
       "    <tr>\n",
       "      <th>13</th>\n",
       "      <td>Pink/purple Supreme</td>\n",
       "      <td>Pink/purple Supreme\\nPurply-pink, rectangular,...</td>\n",
       "      <td>https://i0.wp.com/knowyourstuff.nz/wp-content/...</td>\n",
       "    </tr>\n",
       "    <tr>\n",
       "      <th>14</th>\n",
       "      <td>Blue Kenzo</td>\n",
       "      <td>Blue Kenzo\\nBlue, tiger head on front, “KENZO”...</td>\n",
       "      <td>https://i0.wp.com/knowyourstuff.nz/wp-content/...</td>\n",
       "    </tr>\n",
       "    <tr>\n",
       "      <th>15</th>\n",
       "      <td>Blue Punisher</td>\n",
       "      <td>Blue Punisher\\nLight blue, shaped like a cut d...</td>\n",
       "      <td>https://i0.wp.com/knowyourstuff.nz/wp-content/...</td>\n",
       "    </tr>\n",
       "    <tr>\n",
       "      <th>16</th>\n",
       "      <td>NY Yankees – blue</td>\n",
       "      <td>NY Yankees – blue\\nBlue, round, quite thick, N...</td>\n",
       "      <td>https://i0.wp.com/knowyourstuff.nz/wp-content/...</td>\n",
       "    </tr>\n",
       "    <tr>\n",
       "      <th>17</th>\n",
       "      <td>Four Leaf Clover – green</td>\n",
       "      <td>Four Leaf Clover – green\\nPale green, round\\n\\...</td>\n",
       "      <td>https://i0.wp.com/knowyourstuff.nz/wp-content/...</td>\n",
       "    </tr>\n",
       "    <tr>\n",
       "      <th>18</th>\n",
       "      <td>Givenchy – purple</td>\n",
       "      <td>Givenchy – purple\\nPinky-purple, square, Given...</td>\n",
       "      <td>https://i0.wp.com/knowyourstuff.nz/wp-content/...</td>\n",
       "    </tr>\n",
       "    <tr>\n",
       "      <th>19</th>\n",
       "      <td>Soundcloud – orange</td>\n",
       "      <td>Soundcloud – orange\\nOrange, cloud shaped, Sou...</td>\n",
       "      <td>https://i0.wp.com/knowyourstuff.nz/wp-content/...</td>\n",
       "    </tr>\n",
       "    <tr>\n",
       "      <th>20</th>\n",
       "      <td>Blue Kenzo – 2019/20</td>\n",
       "      <td>Blue Kenzo – 2019/20\\nBright blue, shaped like...</td>\n",
       "      <td>https://i0.wp.com/knowyourstuff.nz/wp-content/...</td>\n",
       "    </tr>\n",
       "    <tr>\n",
       "      <th>21</th>\n",
       "      <td>Iron Man – red</td>\n",
       "      <td>Iron Man – red\\nRed-pink, Iron Man logo\\n\\nWei...</td>\n",
       "      <td>https://i0.wp.com/knowyourstuff.nz/wp-content/...</td>\n",
       "    </tr>\n",
       "    <tr>\n",
       "      <th>22</th>\n",
       "      <td>#MeToo – yellow</td>\n",
       "      <td>#MeToo – yellow\\nRectangular, “#MeToo” on fron...</td>\n",
       "      <td>https://i0.wp.com/knowyourstuff.nz/wp-content/...</td>\n",
       "    </tr>\n",
       "    <tr>\n",
       "      <th>23</th>\n",
       "      <td>Pink Porsches</td>\n",
       "      <td>Pink Porsches\\nBright pink, Porsche logo\\nWeig...</td>\n",
       "      <td>https://i0.wp.com/knowyourstuff.nz/wp-content/...</td>\n",
       "    </tr>\n",
       "    <tr>\n",
       "      <th>24</th>\n",
       "      <td>NY Yankees – blue and yellow</td>\n",
       "      <td>NY Yankees – blue and yellow\\nBlue or yellow, ...</td>\n",
       "      <td>https://i0.wp.com/knowyourstuff.nz/wp-content/...</td>\n",
       "    </tr>\n",
       "    <tr>\n",
       "      <th>25</th>\n",
       "      <td>Mortal Combat, pink and blue</td>\n",
       "      <td>Mortal Combat, pink and blue\\nPale pink or pal...</td>\n",
       "      <td>https://i0.wp.com/knowyourstuff.nz/wp-content/...</td>\n",
       "    </tr>\n",
       "    <tr>\n",
       "      <th>26</th>\n",
       "      <td>Yellow Warner Bros</td>\n",
       "      <td>Yellow Warner Bros\\nPale yellow, shaped like t...</td>\n",
       "      <td>https://i0.wp.com/knowyourstuff.nz/wp-content/...</td>\n",
       "    </tr>\n",
       "    <tr>\n",
       "      <th>27</th>\n",
       "      <td>Yellow DHL Van</td>\n",
       "      <td>Yellow DHL Van\\nPale yellow, shaped like a cou...</td>\n",
       "      <td>https://i0.wp.com/knowyourstuff.nz/wp-content/...</td>\n",
       "    </tr>\n",
       "    <tr>\n",
       "      <th>28</th>\n",
       "      <td>Green Speckles</td>\n",
       "      <td>Green Speckles\\nDark green, speckled, round, n...</td>\n",
       "      <td>https://i0.wp.com/knowyourstuff.nz/wp-content/...</td>\n",
       "    </tr>\n",
       "    <tr>\n",
       "      <th>29</th>\n",
       "      <td>Orange Rolex</td>\n",
       "      <td>Orange Rolex\\nOrange, shaped like the Rolex cr...</td>\n",
       "      <td>https://i0.wp.com/knowyourstuff.nz/wp-content/...</td>\n",
       "    </tr>\n",
       "    <tr>\n",
       "      <th>30</th>\n",
       "      <td>Orange One</td>\n",
       "      <td>Orange One\\nOrange/brown, round pill, has ‘ONE...</td>\n",
       "      <td>https://i0.wp.com/knowyourstuff.nz/wp-content/...</td>\n",
       "    </tr>\n",
       "    <tr>\n",
       "      <th>31</th>\n",
       "      <td>White CNN</td>\n",
       "      <td>White CNN\\nWhite, rectangular with rounded cor...</td>\n",
       "      <td>https://i0.wp.com/knowyourstuff.nz/wp-content/...</td>\n",
       "    </tr>\n",
       "    <tr>\n",
       "      <th>32</th>\n",
       "      <td>Yellow Ironman</td>\n",
       "      <td>Yellow Ironman\\nBright yellow, oval, Ironman l...</td>\n",
       "      <td>https://i0.wp.com/knowyourstuff.nz/wp-content/...</td>\n",
       "    </tr>\n",
       "  </tbody>\n",
       "</table>\n",
       "</div>"
      ],
      "text/plain": [
       "                              Name  \\\n",
       "0        Green Louis Vuitton/Plugs   \n",
       "1                 White Heisenberg   \n",
       "2              Pink glittery heart   \n",
       "3                        Gold gram   \n",
       "4                     Blue hexagon   \n",
       "5                         Red Audi   \n",
       "6                     Plain orange   \n",
       "7                    Yellow pimple   \n",
       "8                      White Rolex   \n",
       "9         Yellow Mickey Mouse logo   \n",
       "10  Grenades, green, pink and grey   \n",
       "11                        Grey AMG   \n",
       "12                  Red Tekashi 69   \n",
       "13             Pink/purple Supreme   \n",
       "14                      Blue Kenzo   \n",
       "15                   Blue Punisher   \n",
       "16               NY Yankees – blue   \n",
       "17        Four Leaf Clover – green   \n",
       "18               Givenchy – purple   \n",
       "19             Soundcloud – orange   \n",
       "20            Blue Kenzo – 2019/20   \n",
       "21                  Iron Man – red   \n",
       "22                 #MeToo – yellow   \n",
       "23                   Pink Porsches   \n",
       "24    NY Yankees – blue and yellow   \n",
       "25    Mortal Combat, pink and blue   \n",
       "26              Yellow Warner Bros   \n",
       "27                  Yellow DHL Van   \n",
       "28                  Green Speckles   \n",
       "29                    Orange Rolex   \n",
       "30                      Orange One   \n",
       "31                       White CNN   \n",
       "32                  Yellow Ironman   \n",
       "\n",
       "                                          Description  \\\n",
       "0   Green Louis Vuitton/Plugs\\r\\nLight green squar...   \n",
       "1   White Heisenberg\\r\\nWhite/speckled guy with a ...   \n",
       "2   Pink glittery heart\\r\\nHot pink heart with gli...   \n",
       "3   Gold gram\\r\\nGold squareish shape with ‘1 gram...   \n",
       "4   Blue hexagonLight blue hexagon with a raised l...   \n",
       "5   Red AudiDark maroon-y red rectangle with Audi ...   \n",
       "6   Plain orangePeachy orange with bevelled edges ...   \n",
       "7   Yellow pimpleYellow, round, with bevel on edge...   \n",
       "8   White RolexWhiteish colour with speckles. Role...   \n",
       "9   Yellow Mickey Mouse logo\\nWeight: 450-550mg\\nE...   \n",
       "10  Grenades, green, pink and grey\\nGreen, pink, o...   \n",
       "11  Grey AMG\\nGrey, slightly speckled, rectangular...   \n",
       "12  Red Tekashi 69\\nReddish pink, cut in the shape...   \n",
       "13  Pink/purple Supreme\\nPurply-pink, rectangular,...   \n",
       "14  Blue Kenzo\\nBlue, tiger head on front, “KENZO”...   \n",
       "15  Blue Punisher\\nLight blue, shaped like a cut d...   \n",
       "16  NY Yankees – blue\\nBlue, round, quite thick, N...   \n",
       "17  Four Leaf Clover – green\\nPale green, round\\n\\...   \n",
       "18  Givenchy – purple\\nPinky-purple, square, Given...   \n",
       "19  Soundcloud – orange\\nOrange, cloud shaped, Sou...   \n",
       "20  Blue Kenzo – 2019/20\\nBright blue, shaped like...   \n",
       "21  Iron Man – red\\nRed-pink, Iron Man logo\\n\\nWei...   \n",
       "22  #MeToo – yellow\\nRectangular, “#MeToo” on fron...   \n",
       "23  Pink Porsches\\nBright pink, Porsche logo\\nWeig...   \n",
       "24  NY Yankees – blue and yellow\\nBlue or yellow, ...   \n",
       "25  Mortal Combat, pink and blue\\nPale pink or pal...   \n",
       "26  Yellow Warner Bros\\nPale yellow, shaped like t...   \n",
       "27  Yellow DHL Van\\nPale yellow, shaped like a cou...   \n",
       "28  Green Speckles\\nDark green, speckled, round, n...   \n",
       "29  Orange Rolex\\nOrange, shaped like the Rolex cr...   \n",
       "30  Orange One\\nOrange/brown, round pill, has ‘ONE...   \n",
       "31  White CNN\\nWhite, rectangular with rounded cor...   \n",
       "32  Yellow Ironman\\nBright yellow, oval, Ironman l...   \n",
       "\n",
       "                                                Image  \n",
       "0   https://i0.wp.com/knowyourstuff.nz/wp-content/...  \n",
       "1   https://i0.wp.com/knowyourstuff.nz/wp-content/...  \n",
       "2   https://i0.wp.com/knowyourstuff.nz/wp-content/...  \n",
       "3   https://i0.wp.com/knowyourstuff.nz/wp-content/...  \n",
       "4   https://i0.wp.com/knowyourstuff.nz/wp-content/...  \n",
       "5   https://i0.wp.com/knowyourstuff.nz/wp-content/...  \n",
       "6   https://i0.wp.com/knowyourstuff.nz/wp-content/...  \n",
       "7   https://i0.wp.com/knowyourstuff.nz/wp-content/...  \n",
       "8   https://i0.wp.com/knowyourstuff.nz/wp-content/...  \n",
       "9   https://i0.wp.com/knowyourstuff.nz/wp-content/...  \n",
       "10  https://i0.wp.com/knowyourstuff.nz/wp-content/...  \n",
       "11  https://i0.wp.com/knowyourstuff.nz/wp-content/...  \n",
       "12  https://i0.wp.com/knowyourstuff.nz/wp-content/...  \n",
       "13  https://i0.wp.com/knowyourstuff.nz/wp-content/...  \n",
       "14  https://i0.wp.com/knowyourstuff.nz/wp-content/...  \n",
       "15  https://i0.wp.com/knowyourstuff.nz/wp-content/...  \n",
       "16  https://i0.wp.com/knowyourstuff.nz/wp-content/...  \n",
       "17  https://i0.wp.com/knowyourstuff.nz/wp-content/...  \n",
       "18  https://i0.wp.com/knowyourstuff.nz/wp-content/...  \n",
       "19  https://i0.wp.com/knowyourstuff.nz/wp-content/...  \n",
       "20  https://i0.wp.com/knowyourstuff.nz/wp-content/...  \n",
       "21  https://i0.wp.com/knowyourstuff.nz/wp-content/...  \n",
       "22  https://i0.wp.com/knowyourstuff.nz/wp-content/...  \n",
       "23  https://i0.wp.com/knowyourstuff.nz/wp-content/...  \n",
       "24  https://i0.wp.com/knowyourstuff.nz/wp-content/...  \n",
       "25  https://i0.wp.com/knowyourstuff.nz/wp-content/...  \n",
       "26  https://i0.wp.com/knowyourstuff.nz/wp-content/...  \n",
       "27  https://i0.wp.com/knowyourstuff.nz/wp-content/...  \n",
       "28  https://i0.wp.com/knowyourstuff.nz/wp-content/...  \n",
       "29  https://i0.wp.com/knowyourstuff.nz/wp-content/...  \n",
       "30  https://i0.wp.com/knowyourstuff.nz/wp-content/...  \n",
       "31  https://i0.wp.com/knowyourstuff.nz/wp-content/...  \n",
       "32  https://i0.wp.com/knowyourstuff.nz/wp-content/...  "
      ]
     },
     "execution_count": 6,
     "metadata": {},
     "output_type": "execute_result"
    }
   ],
   "source": [
    "table = tables[0]\n",
    "table_rows = table.find_all('tr')\n",
    "\n",
    "res = []\n",
    "for tr in table_rows[1:]:\n",
    "    td = tr.find_all('td')\n",
    "    #find the title\n",
    "    if tr.find_all('b'):\n",
    "        title = tr.find_all('b')[0].text\n",
    "    elif tr.find_all('strong'):\n",
    "        title = tr.find_all('strong')[0].text\n",
    "    else:\n",
    "        title = ''\n",
    "        \n",
    "    #find the url for the image\n",
    "    if tr.find_all('img'):\n",
    "        img_link = tr.find_all('img')[0]['data-large-file']\n",
    "    else:\n",
    "        img_link = ''\n",
    "    row = [tr.text.strip() for tr in td if tr.text.strip()]\n",
    "    \n",
    "    row.insert(0, title)\n",
    "    row.insert(2, img_link)\n",
    "    if row:\n",
    "        res.append(row)\n",
    "\n",
    "\n",
    "df = pd.DataFrame(res, columns=[\"Name\", \"Description\", \"Image\"])\n",
    "df\n"
   ]
  },
  {
   "cell_type": "code",
   "execution_count": null,
   "id": "f88bbcc5",
   "metadata": {},
   "outputs": [],
   "source": [
    "df.to_pickle('./static/pill_info/pill_info.pkl')"
   ]
  },
  {
   "cell_type": "markdown",
   "id": "74a167b4",
   "metadata": {},
   "source": [
    "# Download the images"
   ]
  },
  {
   "cell_type": "code",
   "execution_count": 8,
   "id": "19898115",
   "metadata": {},
   "outputs": [],
   "source": [
    "def download_img(name, link):\n",
    "    \n",
    "    response = requests.get(link)\n",
    "    if response.status_code:\n",
    "        name = name.replace('/', '_')\n",
    "        fp = open(f'../app/static/images/{name}.png', 'wb')\n",
    "        fp.write(response.content)\n",
    "        fp.close()\n",
    "\n",
    "for row in range(0,len(df)):\n",
    "    download_img(df['Name'][row], df['Image'][row])        "
   ]
  },
  {
   "cell_type": "markdown",
   "id": "c5d363cb",
   "metadata": {},
   "source": [
    "# Use InteractiveCrop to crop the images\n",
    "- https://github.com/samjett247/interactive_crop\n",
    "\n"
   ]
  },
  {
   "cell_type": "code",
   "execution_count": 71,
   "id": "c5a6c735",
   "metadata": {},
   "outputs": [],
   "source": [
    "image_path_list = glob.glob(\"../app/static/images/*.png\")\n",
    "\n",
    "def read_all_images():\n",
    "    \n",
    "    image_array_list = []\n",
    "    image_path_list = glob.glob(\"../app/static/images/*.png\")\n",
    "    for im in image_path_list:\n",
    "        img = cv2.imread(im)\n",
    "        image_array_list.append(img)\n",
    "    return image_array_list\n",
    "\n",
    "image_array_list = read_all_images()"
   ]
  },
  {
   "cell_type": "code",
   "execution_count": 6,
   "id": "2db335dd",
   "metadata": {
    "scrolled": false
   },
   "outputs": [
    {
     "data": {
      "application/vnd.jupyter.widget-view+json": {
       "model_id": "17fa81cbad59476c9a56ae3ae47bc516",
       "version_major": 2,
       "version_minor": 0
      },
      "text/plain": [
       "GridBox(children=(Dropdown(description='Img Name:', layout=Layout(grid_area='im_selector', width='100%'), opti…"
      ]
     },
     "execution_count": 6,
     "metadata": {},
     "output_type": "execute_result"
    }
   ],
   "source": [
    "image_list = read_all_images()\n",
    "image_name_list = [i.replace('images/', '') for i in image_path_list]\n",
    "\n",
    "# Define the callback to save the image\n",
    "def save_callback(image_name, im):\n",
    "\n",
    "    im.draw() # Draw the shape onto the PIL image; Otherwise we print the unmodified image. Note draw() is inplace operator\n",
    "\n",
    "    PIL_im = im.image # Access the PIL image from the 'shape' object\n",
    "    d = ImageDraw.Draw(PIL_im)\n",
    "    #read the original image\n",
    "    image_original = Image.open(f'../app/static/images/{image_name}')\n",
    "\n",
    "    #grab the coordinates\n",
    "    w_h = im.get_size()[0:4] \n",
    "    \n",
    "    # (left, top, right, bottom)\n",
    "    coords = (w_h[0], w_h[1], w_h[0] + w_h[2], w_h[1] + w_h[3])\n",
    "    print(coords)\n",
    "    image_crop = image_original.crop(coords)\n",
    "    image_crop.show()\n",
    "    image_crop.save('../app/static/images/' + image_name)\n",
    "    #crop the original image with the coords\n",
    "    \n",
    "crop(image_list, image_name_list = image_name_list, optimize = False, callback = save_callback)\n",
    "\n",
    "\n",
    "\n"
   ]
  },
  {
   "cell_type": "code",
   "execution_count": 82,
   "id": "5f93c650",
   "metadata": {},
   "outputs": [],
   "source": [
    "def detect_shape(c):\n",
    "    # Compute perimeter of contour and perform contour approximation\n",
    "    shape = \"\"\n",
    "    peri = cv2.arcLength(c, True)\n",
    "    approx = cv2.approxPolyDP(c, 0.04 * peri, True)\n",
    "\n",
    "    # Triangle\n",
    "    if len(approx) == 3:\n",
    "        shape = \"triangle\"\n",
    "\n",
    "    # Square or rectangle\n",
    "    elif len(approx) == 4:\n",
    "        (x, y, w, h) = cv2.boundingRect(approx)\n",
    "        ar = w / float(h)\n",
    "\n",
    "        # A square will have an aspect ratio that is approximately\n",
    "        # equal to one, otherwise, the shape is a rectangle\n",
    "        shape = \"square\" if ar >= 0.95 and ar <= 1.05 else \"rectangle\"\n",
    "\n",
    "    # Pentagon\n",
    "    elif len(approx) == 5:\n",
    "        shape = \"pentagon\"\n",
    "\n",
    "    # Hexagon\n",
    "    elif len(approx) == 6:\n",
    "        shape = \"hexagon\"\n",
    "\n",
    "    # Octagon \n",
    "    elif len(approx) == 8:\n",
    "        shape = \"octagon\"\n",
    "\n",
    "    # Star\n",
    "    elif len(approx) == 10:\n",
    "        shape = \"star\"\n",
    "\n",
    "    # Otherwise assume as circle or oval\n",
    "    else:\n",
    "        shape = \"circle\"\n",
    "\n",
    "    return (shape, peri, len(approx))\n",
    "\n",
    "def get_contours_info(contours):\n",
    "    contours_ranked = {}\n",
    "    for c_n, c in enumerate(contours):\n",
    "\n",
    "        # Identify shape\n",
    "        shape, peri, corners = detect_shape(c)\n",
    "        contour_info = {'index': c_n, 'shape': shape, 'size': peri, 'corners': corners}\n",
    "        contours_ranked[c_n] = (contour_info)\n",
    "\n",
    "    contours_ranked_df = pd.DataFrame.from_dict(contours_ranked, orient='index').sort_values(\n",
    "                                            by='size', ascending=False)\n",
    "    \n",
    "    return contours_ranked_df\n",
    "    \n",
    "    "
   ]
  },
  {
   "cell_type": "code",
   "execution_count": 83,
   "id": "de4dcee7",
   "metadata": {},
   "outputs": [],
   "source": [
    "image_path_list = glob.glob(\"../app/static/images/*.png\")\n",
    "CROPPED_PILL_PATH = \"../app/static/images/cropped/\"\n",
    "cropped_image_path_list = glob.glob(f\"{CROPPED_PILL_PATH}*.png\")\n",
    "\n",
    "# find associated images\n",
    "img_name = '#MeToo – yellow'\n",
    "\n",
    "def find_possible_image_saved_names(img_name):\n",
    "    possible_image_path_names = [f'../app/static/images/cropped/{img_name.replace(\"/\", \"_\") + \"_\" + str(i)}.png'\n",
    "                                             for i in range(1,5)]\n",
    "    possible_image_path_names.append(f'../app/static/images/cropped/{img_name.replace(\"/\", \"_\") }.png')\n",
    "    \n",
    "    return possible_image_path_names"
   ]
  },
  {
   "cell_type": "code",
   "execution_count": 84,
   "id": "dcdef13b",
   "metadata": {},
   "outputs": [
    {
     "data": {
      "text/plain": [
       "['../app/static/images/cropped/#MeToo – yellow_2.png',\n",
       " '../app/static/images/cropped/#MeToo – yellow_1.png',\n",
       " '../app/static/images/cropped/#MeToo – yellow_3.png',\n",
       " '../app/static/images/cropped/#MeToo – yellow_4.png']"
      ]
     },
     "execution_count": 84,
     "metadata": {},
     "output_type": "execute_result"
    }
   ],
   "source": [
    "list(set(find_possible_image_saved_names(img_name)) & set(cropped_image_path_list))"
   ]
  },
  {
   "cell_type": "code",
   "execution_count": 85,
   "id": "34f8bcdd",
   "metadata": {},
   "outputs": [
    {
     "ename": "NameError",
     "evalue": "name 'plt' is not defined",
     "output_type": "error",
     "traceback": [
      "\u001b[0;31m---------------------------------------------------------------------------\u001b[0m",
      "\u001b[0;31mNameError\u001b[0m                                 Traceback (most recent call last)",
      "Cell \u001b[0;32mIn[85], line 20\u001b[0m\n\u001b[1;32m     18\u001b[0m     cnt_subset \u001b[38;5;241m=\u001b[39m contours[contours_ranked_df\u001b[38;5;241m.\u001b[39mreset_index()[\u001b[38;5;124m'\u001b[39m\u001b[38;5;124mindex\u001b[39m\u001b[38;5;124m'\u001b[39m][\u001b[38;5;241m0\u001b[39m]]\n\u001b[1;32m     19\u001b[0m     cv2\u001b[38;5;241m.\u001b[39mdrawContours(im, [cnt_subset], \u001b[38;5;241m-\u001b[39m\u001b[38;5;241m1\u001b[39m, (\u001b[38;5;241m0\u001b[39m,\u001b[38;5;241m255\u001b[39m,\u001b[38;5;241m0\u001b[39m), \u001b[38;5;241m3\u001b[39m)\n\u001b[0;32m---> 20\u001b[0m \u001b[43mplt\u001b[49m\u001b[38;5;241m.\u001b[39mimshow(im)\n",
      "\u001b[0;31mNameError\u001b[0m: name 'plt' is not defined"
     ]
    }
   ],
   "source": [
    "im = cv2.imread(cropped_image_path_list[20])\n",
    "\n",
    "def get_contours(im):\n",
    "\n",
    "    imgray = cv2.cvtColor(im, cv2.COLOR_BGR2GRAY)\n",
    "    blur = cv2.GaussianBlur(imgray, (5,5), cv2.BORDER_DEFAULT)\n",
    "    canny = cv2.Canny(blur, 220, 230)\n",
    "    ret, thresh = cv2.threshold(canny, 200, 250, cv2.THRESH_BINARY_INV)\n",
    "    dilated = cv2.morphologyEx(thresh, cv2.MORPH_OPEN, cv2.getStructuringElement(cv2.MORPH_ELLIPSE,(20,20)))\n",
    "    contours, hierarchy = cv2.findContours(dilated, cv2.RETR_LIST, cv2.CHAIN_APPROX_SIMPLE)\n",
    "    \n",
    "    return contours\n",
    "\n",
    "\n",
    "contours = get_contours(im)\n",
    "contours_ranked_df = get_contours_info(contours)\n",
    "for k, _ in enumerate(contours):\n",
    "    cnt_subset = contours[contours_ranked_df.reset_index()['index'][0]]\n",
    "    cv2.drawContours(im, [cnt_subset], -1, (0,255,0), 3)\n",
    "plt.imshow(im)"
   ]
  },
  {
   "cell_type": "code",
   "execution_count": 10,
   "id": "355cd287",
   "metadata": {},
   "outputs": [
    {
     "data": {
      "text/html": [
       "<div>\n",
       "<style scoped>\n",
       "    .dataframe tbody tr th:only-of-type {\n",
       "        vertical-align: middle;\n",
       "    }\n",
       "\n",
       "    .dataframe tbody tr th {\n",
       "        vertical-align: top;\n",
       "    }\n",
       "\n",
       "    .dataframe thead th {\n",
       "        text-align: right;\n",
       "    }\n",
       "</style>\n",
       "<table border=\"1\" class=\"dataframe\">\n",
       "  <thead>\n",
       "    <tr style=\"text-align: right;\">\n",
       "      <th></th>\n",
       "      <th>index</th>\n",
       "      <th>shape</th>\n",
       "      <th>size</th>\n",
       "      <th>corners</th>\n",
       "    </tr>\n",
       "  </thead>\n",
       "  <tbody>\n",
       "    <tr>\n",
       "      <th>2</th>\n",
       "      <td>2</td>\n",
       "      <td>rectangle</td>\n",
       "      <td>632.426406</td>\n",
       "      <td>4</td>\n",
       "    </tr>\n",
       "    <tr>\n",
       "      <th>1</th>\n",
       "      <td>1</td>\n",
       "      <td>hexagon</td>\n",
       "      <td>10.485281</td>\n",
       "      <td>6</td>\n",
       "    </tr>\n",
       "    <tr>\n",
       "      <th>0</th>\n",
       "      <td>0</td>\n",
       "      <td>square</td>\n",
       "      <td>5.656854</td>\n",
       "      <td>4</td>\n",
       "    </tr>\n",
       "  </tbody>\n",
       "</table>\n",
       "</div>"
      ],
      "text/plain": [
       "   index      shape        size  corners\n",
       "2      2  rectangle  632.426406        4\n",
       "1      1    hexagon   10.485281        6\n",
       "0      0     square    5.656854        4"
      ]
     },
     "execution_count": 10,
     "metadata": {},
     "output_type": "execute_result"
    }
   ],
   "source": [
    "contours_ranked_df"
   ]
  },
  {
   "cell_type": "markdown",
   "id": "05eb2d90",
   "metadata": {},
   "source": [
    "# Similarity of images?\n",
    "- See detailed stackoverflow discussion on similarity of images https://stackoverflow.com/questions/11541154/checking-images-for-similarity-with-opencv . I think it would make sense to use the CLIP model from OpenAI and https://github.com/UKPLab/sentence-transformers"
   ]
  },
  {
   "cell_type": "code",
   "execution_count": 86,
   "id": "b8ff31d7",
   "metadata": {},
   "outputs": [],
   "source": [
    "def load_sentence_model():\n",
    "    # # Load the OpenAI CLIP Model\n",
    "    model = SentenceTransformer('clip-ViT-B-32')\n",
    "    return model"
   ]
  },
  {
   "cell_type": "code",
   "execution_count": 122,
   "id": "27fc0c2e",
   "metadata": {},
   "outputs": [
    {
     "data": {
      "text/plain": [
       "5"
      ]
     },
     "execution_count": 122,
     "metadata": {},
     "output_type": "execute_result"
    }
   ],
   "source": [
    "len(encoded_image)"
   ]
  },
  {
   "cell_type": "code",
   "execution_count": 119,
   "id": "43e294f7",
   "metadata": {},
   "outputs": [
    {
     "name": "stdout",
     "output_type": "stream",
     "text": [
      "Images: 5\n"
     ]
    },
    {
     "name": "stderr",
     "output_type": "stream",
     "text": [
      "Batches: 100%|█████████████████████████████████████████████████████████████████████████████████████████████████████████████████████████████████████████████████████████████████████████████████| 1/1 [00:00<00:00,  5.26it/s]"
     ]
    },
    {
     "name": "stdout",
     "output_type": "stream",
     "text": [
      "Finding near duplicate images...\n",
      "\n",
      "Score: 90.838%\n",
      "../app/static/images/cropped/#MeToo – yellow_4.png\n",
      "../app/static/images/cropped/#MeToo – yellow_3.png\n",
      "\n",
      "Score: 77.123%\n",
      "../app/static/images/cropped/White Rolex.png\n",
      "../app/static/images/cropped/#MeToo – yellow_3.png\n",
      "\n",
      "Score: 76.501%\n",
      "../app/static/images/cropped/Orange One.png\n",
      "../app/static/images/cropped/#MeToo – yellow_3.png\n",
      "\n",
      "Score: 74.914%\n",
      "../app/static/images/cropped/#MeToo – yellow_4.png\n",
      "../app/static/images/cropped/White Rolex.png\n",
      "\n",
      "Score: 71.806%\n",
      "../app/static/images/cropped/#MeToo – yellow_4.png\n",
      "../app/static/images/cropped/Orange One.png\n",
      "\n",
      "Score: 70.784%\n",
      "../app/static/images/cropped/White Rolex.png\n",
      "../app/static/images/cropped/Orange One.png\n",
      "\n",
      "Score: 70.757%\n",
      "../app/static/images/cropped/Orange One.png\n",
      "../app/static/images/cropped/Four Leaf Clover – green.png\n",
      "\n",
      "Score: 69.055%\n",
      "../app/static/images/cropped/Four Leaf Clover – green.png\n",
      "../app/static/images/cropped/#MeToo – yellow_3.png\n",
      "\n",
      "Score: 67.140%\n",
      "../app/static/images/cropped/#MeToo – yellow_4.png\n",
      "../app/static/images/cropped/Four Leaf Clover – green.png\n",
      "\n",
      "Score: 65.472%\n",
      "../app/static/images/cropped/White Rolex.png\n",
      "../app/static/images/cropped/Four Leaf Clover – green.png\n"
     ]
    },
    {
     "name": "stderr",
     "output_type": "stream",
     "text": [
      "\n"
     ]
    }
   ],
   "source": [
    "\n",
    "# Next we compute the embeddings\n",
    "# To encode an image, you can use the following code:\n",
    "# from PIL import Image\n",
    "# encoded_image = model.encode(Image.open(filepath))\n",
    "image_names = cropped_image_path_list[8:13]\n",
    "print(\"Images:\", len(image_names))\n",
    "encoded_image = model.encode([Image.open(filepath) for filepath in image_names],\n",
    "                             batch_size=128, convert_to_tensor=True, show_progress_bar=True)\n",
    "\n",
    "\n",
    "\n",
    "# Now we run the clustering algorithm. This function compares images aganist \n",
    "# all other images and returns a list with the pairs that have the highest \n",
    "# cosine similarity score\n",
    "processed_images = util.paraphrase_mining_embeddings(encoded_image)\n",
    "NUM_SIMILAR_IMAGES = 10 \n",
    "\n",
    "# # =================\n",
    "# # DUPLICATES\n",
    "# # =================\n",
    "# print('Finding duplicate images...')\n",
    "# # Filter list for duplicates. Results are triplets (score, image_id1, image_id2) and is scorted in decreasing order\n",
    "# # A duplicate image will have a score of 1.00\n",
    "# # It may be 0.9999 due to lossy image compression (.jpg)\n",
    "# duplicates = [image for image in processed_images if image[0] >= 0.999]\n",
    "\n",
    "# # Output the top X duplicate images\n",
    "# for score, image_id1, image_id2 in duplicates[0:NUM_SIMILAR_IMAGES]:\n",
    "#     print(\"\\nScore: {:.3f}%\".format(score * 100))\n",
    "#     print(image_names[image_id1])\n",
    "#     print(image_names[image_id2])\n",
    "\n",
    "# =================\n",
    "# NEAR DUPLICATES\n",
    "# =================\n",
    "print('Finding near duplicate images...')\n",
    "# Use a threshold parameter to identify two images as similar. By setting the threshold lower, \n",
    "# you will get larger clusters which have less similar images in it. Threshold 0 - 1.00\n",
    "# A threshold of 1.00 means the two images are exactly the same. Since we are finding near \n",
    "# duplicate images, we can set it at 0.99 or any number 0 < X < 1.00.\n",
    "threshold = 0.999\n",
    "near_duplicates = [image for image in processed_images]\n",
    "\n",
    "for score, image_id1, image_id2 in near_duplicates[0:NUM_SIMILAR_IMAGES]:\n",
    "    print(\"\\nScore: {:.3f}%\".format(score * 100))\n",
    "    print(image_names[image_id1])\n",
    "    print(image_names[image_id2])"
   ]
  },
  {
   "cell_type": "code",
   "execution_count": 120,
   "id": "828f6895",
   "metadata": {},
   "outputs": [
    {
     "data": {
      "text/plain": [
       "[[0.908379077911377, 0, 4],\n",
       " [0.7712349891662598, 1, 4],\n",
       " [0.765012264251709, 2, 4],\n",
       " [0.749140202999115, 0, 1],\n",
       " [0.7180643677711487, 0, 2],\n",
       " [0.7078385949134827, 1, 2],\n",
       " [0.7075725793838501, 2, 3],\n",
       " [0.6905530691146851, 3, 4],\n",
       " [0.6713957190513611, 0, 3],\n",
       " [0.6547194123268127, 1, 3]]"
      ]
     },
     "execution_count": 120,
     "metadata": {},
     "output_type": "execute_result"
    }
   ],
   "source": [
    "near_duplicates"
   ]
  },
  {
   "cell_type": "code",
   "execution_count": 123,
   "id": "c3f539e3",
   "metadata": {},
   "outputs": [
    {
     "data": {
      "text/plain": [
       "[[0.908379077911377, 0, 4],\n",
       " [0.7712349891662598, 1, 4],\n",
       " [0.765012264251709, 2, 4],\n",
       " [0.749140202999115, 0, 1],\n",
       " [0.7180643677711487, 0, 2],\n",
       " [0.7078385949134827, 1, 2],\n",
       " [0.7075725793838501, 2, 3],\n",
       " [0.6905530691146851, 3, 4],\n",
       " [0.6713957190513611, 0, 3],\n",
       " [0.6547194123268127, 1, 3]]"
      ]
     },
     "execution_count": 123,
     "metadata": {},
     "output_type": "execute_result"
    }
   ],
   "source": [
    "processed_images"
   ]
  },
  {
   "cell_type": "code",
   "execution_count": null,
   "id": "a35a8e01",
   "metadata": {},
   "outputs": [],
   "source": []
  },
  {
   "cell_type": "code",
   "execution_count": null,
   "id": "31d1f736",
   "metadata": {},
   "outputs": [],
   "source": []
  },
  {
   "cell_type": "markdown",
   "id": "7fffbb4b",
   "metadata": {},
   "source": [
    "This seems to work pretty well. It identifies the same pill at a high %."
   ]
  },
  {
   "cell_type": "markdown",
   "id": "42a24a7a",
   "metadata": {},
   "source": [
    "Time to create an app"
   ]
  },
  {
   "cell_type": "code",
   "execution_count": 76,
   "id": "91aceedd",
   "metadata": {},
   "outputs": [],
   "source": [
    "image_path_list = glob.glob(\"../app/static/images/*.png\")\n",
    "CROPPED_PILL_PATH = \"../app/static/images/cropped/\"\n",
    "cropped_image_path_list = glob.glob(f\"{CROPPED_PILL_PATH}*.png\")\n",
    "\n",
    "# find associated images\n",
    "img_name = '#MeToo – yellow'\n",
    "\n",
    "def find_possible_image_saved_names(img_name):\n",
    "    possible_image_path_names = [f'../app/static/images/cropped/{img_name.replace(\"/\", \"_\") + \"_\" + str(i)}.png'\n",
    "                                             for i in range(1,5)]\n",
    "    possible_image_path_names.append(f'../app/static/images/cropped/{img_name.replace(\"/\", \"_\") }.png')\n",
    "    \n",
    "    return possible_image_path_names"
   ]
  },
  {
   "cell_type": "code",
   "execution_count": 77,
   "id": "002d3f61",
   "metadata": {},
   "outputs": [
    {
     "data": {
      "text/plain": [
       "['../app/static/images/cropped/#MeToo – yellow_2.png',\n",
       " '../app/static/images/cropped/#MeToo – yellow_1.png',\n",
       " '../app/static/images/cropped/#MeToo – yellow_3.png',\n",
       " '../app/static/images/cropped/#MeToo – yellow_4.png']"
      ]
     },
     "execution_count": 77,
     "metadata": {},
     "output_type": "execute_result"
    }
   ],
   "source": [
    "list(set(find_possible_image_saved_names(img_name)) & set(cropped_image_path_list))"
   ]
  },
  {
   "cell_type": "code",
   "execution_count": null,
   "id": "7d321cb7",
   "metadata": {},
   "outputs": [],
   "source": []
  }
 ],
 "metadata": {
  "kernelspec": {
   "display_name": "Python [conda env:pill-checker]",
   "language": "python",
   "name": "conda-env-pill-checker-py"
  },
  "language_info": {
   "codemirror_mode": {
    "name": "ipython",
    "version": 3
   },
   "file_extension": ".py",
   "mimetype": "text/x-python",
   "name": "python",
   "nbconvert_exporter": "python",
   "pygments_lexer": "ipython3",
   "version": "3.9.0"
  },
  "vscode": {
   "interpreter": {
    "hash": "4c36867e960f30832f82e1f1b27e1ee65849c569d2c29e0766f3c238d94478fd"
   }
  }
 },
 "nbformat": 4,
 "nbformat_minor": 5
}
